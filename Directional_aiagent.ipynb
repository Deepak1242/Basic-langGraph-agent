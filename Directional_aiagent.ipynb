{
  "nbformat": 4,
  "nbformat_minor": 0,
  "metadata": {
    "colab": {
      "provenance": [],
      "gpuType": "V28",
      "toc_visible": true,
      "include_colab_link": true
    },
    "kernelspec": {
      "name": "python3",
      "display_name": "Python 3"
    },
    "language_info": {
      "name": "python"
    },
    "accelerator": "TPU"
  },
  "cells": [
    {
      "cell_type": "markdown",
      "metadata": {
        "id": "view-in-github",
        "colab_type": "text"
      },
      "source": [
        "<a href=\"https://colab.research.google.com/github/Deepak1242/Basic-langGraph-agent/blob/main/Directional_aiagent.ipynb\" target=\"_parent\"><img src=\"https://colab.research.google.com/assets/colab-badge.svg\" alt=\"Open In Colab\"/></a>"
      ]
    },
    {
      "cell_type": "markdown",
      "source": [
        "Step - 0 Installing the dependencies\n"
      ],
      "metadata": {
        "id": "ON2jK_0zXH30"
      }
    },
    {
      "cell_type": "code",
      "source": [
        "!pip install -qU google-generativeai==0.8.5 google-ai-generativelanguage==0.6.15 langgraph langchain langchain-google-genai openai"
      ],
      "metadata": {
        "id": "InlCFjCLXpJV",
        "colab": {
          "base_uri": "https://localhost:8080/"
        },
        "outputId": "fbae3c1f-10ee-4e22-9935-7ed7c51551a8"
      },
      "execution_count": 2,
      "outputs": [
        {
          "output_type": "stream",
          "name": "stdout",
          "text": [
            "\u001b[2K     \u001b[90m━━━━━━━━━━━━━━━━━━━━━━━━━━━━━━━━━━━━━━━━\u001b[0m \u001b[32m43.7/43.7 kB\u001b[0m \u001b[31m3.6 MB/s\u001b[0m eta \u001b[36m0:00:00\u001b[0m\n",
            "\u001b[2K     \u001b[90m━━━━━━━━━━━━━━━━━━━━━━━━━━━━━━━━━━━━━━━━\u001b[0m \u001b[32m42.0/42.0 kB\u001b[0m \u001b[31m3.3 MB/s\u001b[0m eta \u001b[36m0:00:00\u001b[0m\n",
            "\u001b[2K   \u001b[90m━━━━━━━━━━━━━━━━━━━━━━━━━━━━━━━━━━━━━━━━\u001b[0m \u001b[32m155.4/155.4 kB\u001b[0m \u001b[31m7.4 MB/s\u001b[0m eta \u001b[36m0:00:00\u001b[0m\n",
            "\u001b[2K   \u001b[90m━━━━━━━━━━━━━━━━━━━━━━━━━━━━━━━━━━━━━━━━\u001b[0m \u001b[32m1.3/1.3 MB\u001b[0m \u001b[31m35.3 MB/s\u001b[0m eta \u001b[36m0:00:00\u001b[0m\n",
            "\u001b[2K   \u001b[90m━━━━━━━━━━━━━━━━━━━━━━━━━━━━━━━━━━━━━━━━\u001b[0m \u001b[32m143.9/143.9 kB\u001b[0m \u001b[31m13.1 MB/s\u001b[0m eta \u001b[36m0:00:00\u001b[0m\n",
            "\u001b[2K   \u001b[90m━━━━━━━━━━━━━━━━━━━━━━━━━━━━━━━━━━━━━━━━\u001b[0m \u001b[32m1.0/1.0 MB\u001b[0m \u001b[31m48.5 MB/s\u001b[0m eta \u001b[36m0:00:00\u001b[0m\n",
            "\u001b[2K   \u001b[90m━━━━━━━━━━━━━━━━━━━━━━━━━━━━━━━━━━━━━━━━\u001b[0m \u001b[32m42.0/42.0 kB\u001b[0m \u001b[31m3.6 MB/s\u001b[0m eta \u001b[36m0:00:00\u001b[0m\n",
            "\u001b[2K   \u001b[90m━━━━━━━━━━━━━━━━━━━━━━━━━━━━━━━━━━━━━━━━\u001b[0m \u001b[32m764.4/764.4 kB\u001b[0m \u001b[31m44.0 MB/s\u001b[0m eta \u001b[36m0:00:00\u001b[0m\n",
            "\u001b[2K   \u001b[90m━━━━━━━━━━━━━━━━━━━━━━━━━━━━━━━━━━━━━━━━\u001b[0m \u001b[32m352.2/352.2 kB\u001b[0m \u001b[31m26.8 MB/s\u001b[0m eta \u001b[36m0:00:00\u001b[0m\n",
            "\u001b[2K   \u001b[90m━━━━━━━━━━━━━━━━━━━━━━━━━━━━━━━━━━━━━━━━\u001b[0m \u001b[32m442.3/442.3 kB\u001b[0m \u001b[31m30.6 MB/s\u001b[0m eta \u001b[36m0:00:00\u001b[0m\n",
            "\u001b[2K   \u001b[90m━━━━━━━━━━━━━━━━━━━━━━━━━━━━━━━━━━━━━━━━\u001b[0m \u001b[32m43.9/43.9 kB\u001b[0m \u001b[31m4.0 MB/s\u001b[0m eta \u001b[36m0:00:00\u001b[0m\n",
            "\u001b[2K   \u001b[90m━━━━━━━━━━━━━━━━━━━━━━━━━━━━━━━━━━━━━━━━\u001b[0m \u001b[32m50.3/50.3 kB\u001b[0m \u001b[31m4.7 MB/s\u001b[0m eta \u001b[36m0:00:00\u001b[0m\n",
            "\u001b[2K   \u001b[90m━━━━━━━━━━━━━━━━━━━━━━━━━━━━━━━━━━━━━━━━\u001b[0m \u001b[32m368.0/368.0 kB\u001b[0m \u001b[31m28.9 MB/s\u001b[0m eta \u001b[36m0:00:00\u001b[0m\n",
            "\u001b[2K   \u001b[90m━━━━━━━━━━━━━━━━━━━━━━━━━━━━━━━━━━━━━━━━\u001b[0m \u001b[32m319.9/319.9 kB\u001b[0m \u001b[31m26.7 MB/s\u001b[0m eta \u001b[36m0:00:00\u001b[0m\n",
            "\u001b[2K   \u001b[90m━━━━━━━━━━━━━━━━━━━━━━━━━━━━━━━━━━━━━━━━\u001b[0m \u001b[32m3.3/3.3 MB\u001b[0m \u001b[31m80.0 MB/s\u001b[0m eta \u001b[36m0:00:00\u001b[0m\n",
            "\u001b[2K   \u001b[90m━━━━━━━━━━━━━━━━━━━━━━━━━━━━━━━━━━━━━━━━\u001b[0m \u001b[32m194.8/194.8 kB\u001b[0m \u001b[31m17.6 MB/s\u001b[0m eta \u001b[36m0:00:00\u001b[0m\n",
            "\u001b[2K   \u001b[90m━━━━━━━━━━━━━━━━━━━━━━━━━━━━━━━━━━━━━━━━\u001b[0m \u001b[32m13.7/13.7 MB\u001b[0m \u001b[31m89.9 MB/s\u001b[0m eta \u001b[36m0:00:00\u001b[0m\n",
            "\u001b[2K   \u001b[90m━━━━━━━━━━━━━━━━━━━━━━━━━━━━━━━━━━━━━━━━\u001b[0m \u001b[32m585.5/585.5 kB\u001b[0m \u001b[31m43.5 MB/s\u001b[0m eta \u001b[36m0:00:00\u001b[0m\n",
            "\u001b[2K   \u001b[90m━━━━━━━━━━━━━━━━━━━━━━━━━━━━━━━━━━━━━━━━\u001b[0m \u001b[32m127.9/127.9 kB\u001b[0m \u001b[31m11.2 MB/s\u001b[0m eta \u001b[36m0:00:00\u001b[0m\n",
            "\u001b[2K   \u001b[90m━━━━━━━━━━━━━━━━━━━━━━━━━━━━━━━━━━━━━━━━\u001b[0m \u001b[32m216.5/216.5 kB\u001b[0m \u001b[31m19.8 MB/s\u001b[0m eta \u001b[36m0:00:00\u001b[0m\n",
            "\u001b[2K   \u001b[90m━━━━━━━━━━━━━━━━━━━━━━━━━━━━━━━━━━━━━━━━\u001b[0m \u001b[32m54.5/54.5 kB\u001b[0m \u001b[31m5.0 MB/s\u001b[0m eta \u001b[36m0:00:00\u001b[0m\n",
            "\u001b[2K   \u001b[90m━━━━━━━━━━━━━━━━━━━━━━━━━━━━━━━━━━━━━━━━\u001b[0m \u001b[32m5.4/5.4 MB\u001b[0m \u001b[31m102.1 MB/s\u001b[0m eta \u001b[36m0:00:00\u001b[0m\n",
            "\u001b[?25h"
          ]
        }
      ]
    },
    {
      "cell_type": "markdown",
      "source": [
        "Step- 1 Imports and secure API keys input\n"
      ],
      "metadata": {
        "id": "9kPLXJprYA1F"
      }
    },
    {
      "cell_type": "code",
      "source": [
        "import os\n",
        "import getpass\n",
        "from langgraph.graph import StateGraph, START, END\n",
        "from langchain_google_genai import ChatGoogleGenerativeAI\n",
        "from langchain_core.messages import HumanMessage\n"
      ],
      "metadata": {
        "id": "-uLrI95xYI2e"
      },
      "execution_count": 3,
      "outputs": []
    },
    {
      "cell_type": "markdown",
      "source": [
        "Step-2 Gemini Api key iinput"
      ],
      "metadata": {
        "id": "ydFQ__TCZP6b"
      }
    },
    {
      "cell_type": "code",
      "source": [
        "os.environ['GOOGLE_API_KEY'] = getpass.getpass(\"Enter the gemini api key\")"
      ],
      "metadata": {
        "id": "CAa-nvi0Zkru",
        "colab": {
          "base_uri": "https://localhost:8080/"
        },
        "outputId": "9db56d1e-5e2a-4fcf-e669-92ad03c8ea9f"
      },
      "execution_count": 4,
      "outputs": [
        {
          "name": "stdout",
          "output_type": "stream",
          "text": [
            "Enter the gemini api key··········\n"
          ]
        }
      ]
    },
    {
      "cell_type": "markdown",
      "source": [
        "Step-3 Initialize the gemini 1.5 flash\n"
      ],
      "metadata": {
        "id": "ajymuGSRakZh"
      }
    },
    {
      "cell_type": "code",
      "source": [
        "llm = ChatGoogleGenerativeAI(model= \"models/gemini-1.5-flash-latest\",temperature = 0.2)"
      ],
      "metadata": {
        "id": "MEQK5zzZaxnD"
      },
      "execution_count": 5,
      "outputs": []
    },
    {
      "cell_type": "markdown",
      "source": [
        "Step-4 Node to ask user for symptom"
      ],
      "metadata": {
        "id": "NvI3Lat0bBol"
      }
    },
    {
      "cell_type": "code",
      "source": [
        "def get_symptom(state: dict) -> dict:\n",
        "  symptom = input(\"welcome to XYZ hospital, please enter your symptom:\")\n",
        "  state[\"symptom\"] = symptom\n",
        "  return state\n"
      ],
      "metadata": {
        "id": "XFv3A6SybM-W"
      },
      "execution_count": 6,
      "outputs": []
    },
    {
      "cell_type": "markdown",
      "source": [
        "Step-5 Node to Classify the symptoms"
      ],
      "metadata": {
        "id": "nDMTaKpIchuu"
      }
    },
    {
      "cell_type": "code",
      "source": [
        "def classify_symptom(state: dict) -> dict:\n",
        "  prompt = (\n",
        "\n",
        "      \"You are a helpful Medical Assistant, Classify the symptoms below into one of the categories \\n\"\n",
        "      \"-General \\n -Emergency \\n -mental health \\n\"\n",
        "      f\"symptom : {state['symptom']} \\n \"\n",
        "      \"Respond with one word : general,emergency or Mental health \\n\"\n",
        "      \"Example  : Input : I have fever , output : General\"\n",
        "      )\n",
        "\n",
        "  response = llm.invoke([HumanMessage(content = prompt)])\n",
        "  category = response.content.strip()\n",
        "  print(f\"LLM classifies the symptom as : {category}\")\n",
        "  state[\"category\"] = category\n",
        "  return state"
      ],
      "metadata": {
        "id": "CV9uvU7jcrsi"
      },
      "execution_count": 7,
      "outputs": []
    },
    {
      "cell_type": "markdown",
      "source": [
        "##Step-6 Router Logic to route to the correct node"
      ],
      "metadata": {
        "id": "5YeWTfhQc0No"
      }
    },
    {
      "cell_type": "code",
      "source": [
        "def symptom_router(state:dict)->dict:\n",
        "  cat = state[\"category\"].lower()\n",
        "  if \"general\" in cat:\n",
        "    return \"general\"\n",
        "  elif \"emergency\" in cat:\n",
        "    return \"emergency\"\n",
        "  elif \"mental health\" in cat:\n",
        "    return \"mental health\"\n",
        "  else:\n",
        "    return \"general\""
      ],
      "metadata": {
        "id": "1kwWAd0-fcii"
      },
      "execution_count": 8,
      "outputs": []
    },
    {
      "cell_type": "markdown",
      "source": [
        "###step-7 Category-specific reponses nodes"
      ],
      "metadata": {
        "id": "KeQOioFPeBEm"
      }
    },
    {
      "cell_type": "code",
      "source": [
        "def general_node(state:dict)->dict:\n",
        "  state[\"answer\"] = f\" '{state['symptom']}' : seems general : directing you to general ward for consulting a doctor..\"\n",
        "  return state\n",
        "\n",
        "def emergency_node(state:dict) -> dict:\n",
        "  state[\"answer\"] = f\" '{state['symptom']}' : seems emergency : directing you to emergency ward for consulting a doctor..\"\n",
        "  return state\n",
        "\n",
        "def mental_node(state:dict) -> dict:\n",
        "  state[\"answer\"] = f\" '{state['symptom']}' : seems Mental issue : directing you to mental health specialist doctor..\"\n",
        "  return state"
      ],
      "metadata": {
        "id": "qTJwLSeKfaHZ"
      },
      "execution_count": 9,
      "outputs": []
    },
    {
      "cell_type": "markdown",
      "source": [
        "###Build a LangGraph"
      ],
      "metadata": {
        "id": "41jdylxqhdhS"
      }
    },
    {
      "cell_type": "code",
      "source": [
        "builder = StateGraph(dict)\n",
        "\n",
        "builder.set_entry_point(\"get_symptom\")\n",
        "builder.add_node(\"get_symptom\",get_symptom)\n",
        "builder.add_node(\"classify\",classify_symptom)\n",
        "builder.add_node(\"general\",general_node)\n",
        "builder.add_node(\"emergency\",emergency_node)\n",
        "builder.add_node(\"mental health\",mental_node)\n",
        "\n",
        "\n",
        "builder.add_edge(\"get_symptom\" , \"classify\")\n",
        "builder.add_conditional_edges(\"classify\",symptom_router,{\n",
        "    \"general\": \"general\",\n",
        "    \"emergency\": \"emergency\",\n",
        "    \"mental health\": \"mental health\"\n",
        "})\n",
        "\n",
        "builder.add_edge(\"general\",END)\n",
        "builder.add_edge(\"emergency\",END)\n",
        "builder.add_edge(\"mental health\",END)\n",
        "\n"
      ],
      "metadata": {
        "colab": {
          "base_uri": "https://localhost:8080/"
        },
        "id": "YrDLSD47hfqC",
        "outputId": "84395ea2-ad95-4269-9ede-8b87c351db38"
      },
      "execution_count": 10,
      "outputs": [
        {
          "output_type": "execute_result",
          "data": {
            "text/plain": [
              "<langgraph.graph.state.StateGraph at 0x7a422e7a1cd0>"
            ]
          },
          "metadata": {},
          "execution_count": 10
        }
      ]
    },
    {
      "cell_type": "markdown",
      "source": [
        "##Step 9 Compile and invoke the graph\n"
      ],
      "metadata": {
        "id": "m1SE_kD-jkUx"
      }
    },
    {
      "cell_type": "code",
      "source": [
        "graph = builder.compile()\n",
        "final_state = graph.invoke({})\n",
        "print(final_state[\"answer\"])\n"
      ],
      "metadata": {
        "colab": {
          "base_uri": "https://localhost:8080/"
        },
        "id": "7aHY8Xv-jpSI",
        "outputId": "b78fb6e4-d57b-493c-dffb-7d3a0404a832"
      },
      "execution_count": 11,
      "outputs": [
        {
          "output_type": "stream",
          "name": "stdout",
          "text": [
            "welcome to XYZ hospital, please enter your symptom:FEELING LITTLE WEIRD AND TIRED \n",
            "LLM classifies the symptom as : General\n",
            " 'FEELING LITTLE WEIRD AND TIRED ' : seems general : directing you to general ward for consulting a doctor..\n"
          ]
        }
      ]
    }
  ]
}